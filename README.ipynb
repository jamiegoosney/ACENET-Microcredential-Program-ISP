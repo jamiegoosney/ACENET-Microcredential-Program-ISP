{
 "cells": [
  {
   "cell_type": "code",
   "execution_count": null,
   "id": "a3176970-651e-4a99-9ad0-562e126baee0",
   "metadata": {},
   "outputs": [],
   "source": [
    "# Climate Change in the Stephenville Area over 30 Years\n",
    "\n",
    "## Project Overview\n",
    "This project aims to analyze the impacts of climate change on the coastline of Newfoundland, focusing on the Stephenville area over the past three decades.\n",
    "Specific objectives include identifying trends in temperature, precipitation, and sea level rise, and understanding how these changes have affected the local environment and community.\n",
    "\n",
    "## Project Objectives\n",
    "- Identify trends in historical climate data for Stephenville.\n",
    "- Analyze changes in temperature, precipitation, and sea level rise.\n",
    "- Assess the impact of these changes on the local environment and community.\n",
    "\n",
    "## Dataset(s) Description\n",
    "The confirmed datasets include:\n",
    "- **Historical Weather Data**: Temperature, precipitation, and other relevant climate variables over the past 30 years.\n",
    "\n",
    "## GitHub Repository Link\n",
    "You can find all project files and datasets in this repository: [Stephenville Climate Change Analysis](https://github.com/jamiegoosney/ACENET-Microcredential-Program-ISP/tree/main).\n",
    "\n",
    "## Planned HPC Use\n",
    "High-Performance Computing (HPC) resources will be utilized to:\n",
    "- Analyze large historical climate datasets in parallel.\n",
    "- Run parallel code for complex statistical analyses and model simulations.\n",
    "- Use specialized climate analysis software on Siku (If available) to process and visualize data.\n",
    "\n",
    "## Progress Since Proposal\n",
    "- Created a Project Plan using Jira (https://adcengineering.atlassian.net/jira/core/projects/CCISAO3Y/board)\n",
    "- Created the GitHub repository and uploaded initial datasets.\n",
    "- Conducted preliminary data exploration to understand the dataset structure.\n",
    "- Resolved minor data cleaning issues due to inconsistent formats and extra data columns not associated with the project.\n",
    "\n",
    "## Updated Project Outline\n",
    "- **Defining Objectives and Research Questions**: Clarified project goals and research questions.\n",
    "- **Data Preprocessing and Exploration**: Handling missing data and normalizing datasets.\n",
    "- **Performing Analysis**: Conducting statistical analyses, including regression models and time-series analysis.\n",
    "- **Interpreting Results**: Drawing conclusions from the analyses.\n",
    "- **Report and Presentation Preparation**: Compiling findings into a comprehensive report and presentation.\n",
    "\n",
    "## Contact\n",
    "For any questions or suggestions, feel free to contact me at Jamie.goosney@gmail.com.\n",
    "\n"
   ]
  }
 ],
 "metadata": {
  "kernelspec": {
   "display_name": "Python 3 (ipykernel)",
   "language": "python",
   "name": "python3"
  },
  "language_info": {
   "codemirror_mode": {
    "name": "ipython",
    "version": 3
   },
   "file_extension": ".py",
   "mimetype": "text/x-python",
   "name": "python",
   "nbconvert_exporter": "python",
   "pygments_lexer": "ipython3",
   "version": "3.11.7"
  }
 },
 "nbformat": 4,
 "nbformat_minor": 5
}
